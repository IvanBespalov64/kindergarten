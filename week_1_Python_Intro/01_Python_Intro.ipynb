{
  "nbformat": 4,
  "nbformat_minor": 0,
  "metadata": {
    "colab": {
      "provenance": []
    },
    "kernelspec": {
      "name": "python3",
      "display_name": "Python 3"
    },
    "language_info": {
      "name": "python"
    }
  },
  "cells": [
    {
      "cell_type": "code",
      "source": [
        "from typing import List"
      ],
      "metadata": {
        "id": "OGUOneto9_7D"
      },
      "execution_count": null,
      "outputs": []
    },
    {
      "cell_type": "markdown",
      "source": [
        "# Задание 1\n",
        "Написать функцию, которая будет принимать на вход список $a$ и возвращать список, состоящий из всех четных элементов $a$"
      ],
      "metadata": {
        "id": "Ui2BpXI-9m7l"
      }
    },
    {
      "cell_type": "code",
      "source": [
        "def filter_even(a : List[int]) -> List[int]:\n",
        "    res = []\n",
        "    for cur in a:\n",
        "        if cur % 2 == 0:\n",
        "            res.append(cur)\n",
        "    return res"
      ],
      "metadata": {
        "id": "iYO7tWPU9p6U"
      },
      "execution_count": null,
      "outputs": []
    },
    {
      "cell_type": "code",
      "source": [
        "filter_even([1, 2, 4, 5, 7, 10]) # [2, 4, 10]"
      ],
      "metadata": {
        "colab": {
          "base_uri": "https://localhost:8080/"
        },
        "id": "EPOyCbEMUlH2",
        "outputId": "62d045e2-1956-4e01-d8f0-1c4dca488399"
      },
      "execution_count": null,
      "outputs": [
        {
          "output_type": "execute_result",
          "data": {
            "text/plain": [
              "[2, 4, 10]"
            ]
          },
          "metadata": {},
          "execution_count": 36
        }
      ]
    },
    {
      "cell_type": "markdown",
      "source": [
        "# Задание 2\n",
        "Написать функцию, которая будет принимать на вход строку и возвращать True, если она  - палиндром и False иначе."
      ],
      "metadata": {
        "id": "_fYtjzf7-bI5"
      }
    },
    {
      "cell_type": "code",
      "source": [
        "def is_palindrome(s : str) -> bool:\n",
        "    return s == s[::-1]"
      ],
      "metadata": {
        "id": "u9E5ESqi-F_W"
      },
      "execution_count": null,
      "outputs": []
    },
    {
      "cell_type": "code",
      "source": [
        "is_palindrome(\"abbba\") #True"
      ],
      "metadata": {
        "colab": {
          "base_uri": "https://localhost:8080/"
        },
        "id": "Ou9uH-T6WLyi",
        "outputId": "082ce9a0-dd91-45c8-ae85-6bd4d9363bd8"
      },
      "execution_count": null,
      "outputs": [
        {
          "output_type": "execute_result",
          "data": {
            "text/plain": [
              "True"
            ]
          },
          "metadata": {},
          "execution_count": 63
        }
      ]
    },
    {
      "cell_type": "code",
      "source": [
        "is_palindrome(\"abcd\") # False"
      ],
      "metadata": {
        "colab": {
          "base_uri": "https://localhost:8080/"
        },
        "id": "JleSIyrBWOzE",
        "outputId": "b6dfbfad-2b2c-4622-ec10-817176fbcc7e"
      },
      "execution_count": null,
      "outputs": [
        {
          "output_type": "execute_result",
          "data": {
            "text/plain": [
              "False"
            ]
          },
          "metadata": {},
          "execution_count": 64
        }
      ]
    },
    {
      "cell_type": "code",
      "source": [
        "\"abbc\"[::-1]"
      ],
      "metadata": {
        "colab": {
          "base_uri": "https://localhost:8080/",
          "height": 35
        },
        "id": "I1e6chw5YGyS",
        "outputId": "eccbe066-d538-4594-b5fa-669a0b566ea1"
      },
      "execution_count": null,
      "outputs": [
        {
          "output_type": "execute_result",
          "data": {
            "text/plain": [
              "'cbba'"
            ],
            "application/vnd.google.colaboratory.intrinsic+json": {
              "type": "string"
            }
          },
          "metadata": {},
          "execution_count": 56
        }
      ]
    },
    {
      "cell_type": "code",
      "source": [
        "s = \"abba\""
      ],
      "metadata": {
        "id": "ASdfYZKvVnng"
      },
      "execution_count": null,
      "outputs": []
    },
    {
      "cell_type": "code",
      "source": [
        "s[0]"
      ],
      "metadata": {
        "colab": {
          "base_uri": "https://localhost:8080/",
          "height": 35
        },
        "id": "6mFs6SMKVtf4",
        "outputId": "dc3e6874-d3ef-43ed-ddd8-a6f5cad6eb4c"
      },
      "execution_count": null,
      "outputs": [
        {
          "output_type": "execute_result",
          "data": {
            "text/plain": [
              "'a'"
            ],
            "application/vnd.google.colaboratory.intrinsic+json": {
              "type": "string"
            }
          },
          "metadata": {},
          "execution_count": 39
        }
      ]
    },
    {
      "cell_type": "code",
      "source": [
        "s[1]"
      ],
      "metadata": {
        "colab": {
          "base_uri": "https://localhost:8080/",
          "height": 35
        },
        "id": "Vsvhxy0WVw1S",
        "outputId": "7c0c173d-892e-44f6-ef7a-5cd3d8586d39"
      },
      "execution_count": null,
      "outputs": [
        {
          "output_type": "execute_result",
          "data": {
            "text/plain": [
              "'b'"
            ],
            "application/vnd.google.colaboratory.intrinsic+json": {
              "type": "string"
            }
          },
          "metadata": {},
          "execution_count": 40
        }
      ]
    },
    {
      "cell_type": "markdown",
      "source": [
        "# Задание 3\n",
        "\n",
        "Написать класс Complex представляющий собой комплексное число. У класса должны быть реализованы методы add (позволяющий прибавить комплексное число), subtract (реализующий вычитание) и метод \\_\\_repr\\_\\_, возвращающий текстовое описание текущего числа"
      ],
      "metadata": {
        "id": "YoSS9zhjEvk-"
      }
    },
    {
      "cell_type": "code",
      "source": [
        "class Complex:\n",
        "    def __init__(self, re : float, im : float):\n",
        "        self.re = re\n",
        "        self.im = im\n",
        "\n",
        "    def __repr__(self) -> str:\n",
        "        return f\"Complex(re={self.re}, im={self.im})\"\n",
        "\n",
        "    def __add__(self, b : 'Complex') -> 'Complex':\n",
        "        return Complex(re=self.re+b.re, im=self.im+b.im)\n",
        "\n",
        "    def __sub__(self, b : 'Complex') -> 'Complex':\n",
        "        return Complex(re=self.re-b.re, im=self.im-b.im)\n",
        "\n",
        "    def conj(self) -> 'Complex':\n",
        "        return Complex(re=self.re, im=-self.im)"
      ],
      "metadata": {
        "id": "nNjmsoRMErvG"
      },
      "execution_count": null,
      "outputs": []
    },
    {
      "cell_type": "code",
      "source": [
        "(Complex(2, 3) - Complex(4, 5)).conj()"
      ],
      "metadata": {
        "colab": {
          "base_uri": "https://localhost:8080/"
        },
        "id": "4qnjqhVFcAFG",
        "outputId": "f9a71d89-6c99-4464-d809-42055ead84a3"
      },
      "execution_count": null,
      "outputs": [
        {
          "output_type": "execute_result",
          "data": {
            "text/plain": [
              "Complex(re=-2, im=2)"
            ]
          },
          "metadata": {},
          "execution_count": 96
        }
      ]
    },
    {
      "cell_type": "code",
      "source": [
        "Complex(2., 3.5).add(Complex(4.3, 2))"
      ],
      "metadata": {
        "id": "giqBLgUrFG7C",
        "colab": {
          "base_uri": "https://localhost:8080/"
        },
        "outputId": "da0ca736-c5b8-4c83-e103-63a80820d299"
      },
      "execution_count": null,
      "outputs": [
        {
          "output_type": "execute_result",
          "data": {
            "text/plain": [
              "Complex(re=6.3, im=5.5)"
            ]
          },
          "metadata": {},
          "execution_count": 82
        }
      ]
    },
    {
      "cell_type": "code",
      "source": [
        "Complex(2., 3.5).subtract(Complex(4.3, 2))"
      ],
      "metadata": {
        "colab": {
          "base_uri": "https://localhost:8080/"
        },
        "id": "yaI0IuOobfm3",
        "outputId": "1e274015-e2c2-44fa-e972-b3d3f423d1f8"
      },
      "execution_count": null,
      "outputs": [
        {
          "output_type": "execute_result",
          "data": {
            "text/plain": [
              "Complex(re=-2.3, im=1.5)"
            ]
          },
          "metadata": {},
          "execution_count": 76
        }
      ]
    },
    {
      "cell_type": "code",
      "source": [
        "Complex(re=1, im=3.5)"
      ],
      "metadata": {
        "colab": {
          "base_uri": "https://localhost:8080/"
        },
        "id": "Pfclsz_iNeXI",
        "outputId": "d336e522-0004-46e7-e3dc-8f4cbdd57d41"
      },
      "execution_count": null,
      "outputs": [
        {
          "output_type": "execute_result",
          "data": {
            "text/plain": [
              "Complex(re=1, im=3.5)"
            ]
          },
          "metadata": {},
          "execution_count": 70
        }
      ]
    },
    {
      "cell_type": "code",
      "source": [
        "a = [1, 2, 3]"
      ],
      "metadata": {
        "id": "pAcWx27aNgME"
      },
      "execution_count": null,
      "outputs": []
    },
    {
      "cell_type": "code",
      "source": [
        "a"
      ],
      "metadata": {
        "colab": {
          "base_uri": "https://localhost:8080/"
        },
        "id": "oNHvBwrnbv90",
        "outputId": "bc8cd879-f9ae-4c89-b2e2-1ecabb246437"
      },
      "execution_count": null,
      "outputs": [
        {
          "output_type": "execute_result",
          "data": {
            "text/plain": [
              "[1, 2, 3]"
            ]
          },
          "metadata": {},
          "execution_count": 84
        }
      ]
    },
    {
      "cell_type": "code",
      "source": [
        "for x in map(lambda x: x*x, a):\n",
        "    print(x)"
      ],
      "metadata": {
        "colab": {
          "base_uri": "https://localhost:8080/"
        },
        "id": "K8E9J3qCbw0j",
        "outputId": "bf1d7cf2-d058-4aa0-8a0d-dd6ffacd95ee"
      },
      "execution_count": null,
      "outputs": [
        {
          "output_type": "stream",
          "name": "stdout",
          "text": [
            "1\n",
            "4\n",
            "9\n"
          ]
        }
      ]
    },
    {
      "cell_type": "code",
      "source": [
        "a.add((1, ))"
      ],
      "metadata": {
        "id": "thkhxu8WNj9d"
      },
      "execution_count": null,
      "outputs": []
    },
    {
      "cell_type": "code",
      "source": [
        "class Animal:\n",
        "    def __init__(self, name : str) -> None:\n",
        "        self.animal_name = name\n",
        "\n",
        "    def print_name(self) -> None:\n",
        "        print(self.animal_name)\n",
        "\n",
        "    def get_info(self) -> str:\n",
        "        return \"Name: \" + self.animal_name\n",
        "\n",
        "    def print_info(self) -> None:\n",
        "        print(self.get_info())\n",
        "\n",
        "    def change_name(self, new_name) -> None:\n",
        "        print(\"Name changed from \" + self.animal_name + \" to \" + new_name)\n",
        "        self.animal_name = new_name\n",
        "\n",
        "    def __call__(self) -> None:\n",
        "        print(\"Hello!\")"
      ],
      "metadata": {
        "id": "0ZwwyrIPNnLH"
      },
      "execution_count": null,
      "outputs": []
    },
    {
      "cell_type": "code",
      "source": [
        "animal = Animal(name=\"Bob\")"
      ],
      "metadata": {
        "id": "iubv9596RZeH"
      },
      "execution_count": null,
      "outputs": []
    },
    {
      "cell_type": "code",
      "source": [
        "animal()"
      ],
      "metadata": {
        "colab": {
          "base_uri": "https://localhost:8080/"
        },
        "id": "2jB03Sb1Sy1f",
        "outputId": "a8df0b61-1ab4-4e46-b379-cf771cb112f0"
      },
      "execution_count": null,
      "outputs": [
        {
          "output_type": "stream",
          "name": "stdout",
          "text": [
            "Hello!\n"
          ]
        }
      ]
    },
    {
      "cell_type": "code",
      "source": [
        "animal.print_info()"
      ],
      "metadata": {
        "colab": {
          "base_uri": "https://localhost:8080/"
        },
        "id": "lSxgZmvORcsl",
        "outputId": "b28529ba-634e-4606-c87b-a8a1270dfa23"
      },
      "execution_count": null,
      "outputs": [
        {
          "output_type": "stream",
          "name": "stdout",
          "text": [
            "Name: Bob\n"
          ]
        }
      ]
    },
    {
      "cell_type": "code",
      "source": [
        "animal.change_name(new_name=\"Not Bob\")"
      ],
      "metadata": {
        "colab": {
          "base_uri": "https://localhost:8080/"
        },
        "id": "-UAq_WOvR_CL",
        "outputId": "c157c022-057a-490d-b1d7-1d79354ab8ba"
      },
      "execution_count": null,
      "outputs": [
        {
          "output_type": "stream",
          "name": "stdout",
          "text": [
            "Name changed from Bob to Not Bob\n"
          ]
        }
      ]
    },
    {
      "cell_type": "code",
      "source": [
        "animal.print_info()"
      ],
      "metadata": {
        "colab": {
          "base_uri": "https://localhost:8080/"
        },
        "id": "d6S1ooBeSGAW",
        "outputId": "0084c847-6be9-4ad1-94be-a80e10081379"
      },
      "execution_count": null,
      "outputs": [
        {
          "output_type": "stream",
          "name": "stdout",
          "text": [
            "Name: Not Bob\n"
          ]
        }
      ]
    },
    {
      "cell_type": "code",
      "source": [
        "returned_value = hello(\"Bob\", 16)\n",
        "print(returned_value)"
      ],
      "metadata": {
        "colab": {
          "base_uri": "https://localhost:8080/"
        },
        "id": "VGcoKmuKPQIu",
        "outputId": "75a6d295-197e-4358-d5d0-96d13df03b5d"
      },
      "execution_count": null,
      "outputs": [
        {
          "output_type": "stream",
          "name": "stdout",
          "text": [
            "Bob 16\n",
            "256\n"
          ]
        }
      ]
    }
  ]
}